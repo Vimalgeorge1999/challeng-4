{
 "cells": [
  {
   "cell_type": "code",
   "execution_count": 18,
   "id": "7c1e4aa5",
   "metadata": {},
   "outputs": [
    {
     "name": "stdout",
     "output_type": "stream",
     "text": [
      "5000\n",
      "Ashish\n",
      "5\n"
     ]
    }
   ],
   "source": [
    "class account:\n",
    "    def __init__(self,title,balance):\n",
    "        self.title=title\n",
    "        self.balance=balance\n",
    "    def name(self):\n",
    "        return self.title\n",
    "    def bal(self):\n",
    "        return self.balance\n",
    "class savings_account(account):\n",
    "    def __init__(self,title,balance,intrate):\n",
    "        self.title=title\n",
    "        self.balance=balance\n",
    "        self.intrate=intrate\n",
    "    def intr(self):\n",
    "        return self.intrate\n",
    "c=account(\"Ashish\",5000)\n",
    "d=savings_account(\"Ashish\",5000,5)\n",
    "print(d.bal())\n",
    "print(d.name())\n",
    "print(d.intr())\n"
   ]
  },
  {
   "cell_type": "code",
   "execution_count": null,
   "id": "c92cc3ea",
   "metadata": {},
   "outputs": [],
   "source": []
  }
 ],
 "metadata": {
  "kernelspec": {
   "display_name": "Python 3 (ipykernel)",
   "language": "python",
   "name": "python3"
  },
  "language_info": {
   "codemirror_mode": {
    "name": "ipython",
    "version": 3
   },
   "file_extension": ".py",
   "mimetype": "text/x-python",
   "name": "python",
   "nbconvert_exporter": "python",
   "pygments_lexer": "ipython3",
   "version": "3.11.0"
  }
 },
 "nbformat": 4,
 "nbformat_minor": 5
}
